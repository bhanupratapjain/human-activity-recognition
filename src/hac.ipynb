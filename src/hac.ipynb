{
 "cells": [
  {
   "cell_type": "code",
   "execution_count": 36,
   "metadata": {
    "collapsed": false
   },
   "outputs": [],
   "source": [
    "import os\n",
    "import pprint\n",
    "\n",
    "import matplotlib.pyplot as plt\n",
    "import numpy as np\n",
    "from mpl_toolkits.mplot3d import Axes3D\n",
    "from sklearn import svm as SVM\n",
    "from sklearn.calibration import calibration_curve\n",
    "from sklearn.discriminant_analysis import LinearDiscriminantAnalysis, QuadraticDiscriminantAnalysis\n",
    "from sklearn.ensemble import RandomForestClassifier\n",
    "from sklearn.metrics import accuracy_score\n",
    "from sklearn.naive_bayes import GaussianNB\n",
    "from sklearn.tree import DecisionTreeClassifier\n",
    "from sklearn.utils import shuffle\n",
    "from sklearn.cross_validation import cross_val_score\n",
    "\n",
    "# import __root__\n",
    "\n",
    "plt.style.use('ggplot')\n",
    "# %matplotlib inline\n",
    "\n",
    "\n",
    "from sklearn import decomposition\n",
    "from sklearn import datasets\n",
    "from sklearn.preprocessing import StandardScaler\n",
    "\n",
    "# PROJECT_ROOT = __root__.path()\n",
    "#\n",
    "\n",
    "class Data:\n",
    "    def __init__(self):\n",
    "        self.X_train = None\n",
    "        self.y_train = None\n",
    "        self.X_test = None\n",
    "        self.y_test = None\n",
    "\n",
    "    def load_data(self, train_rows=None, test_rows=None, shfl=False, scl=False):\n",
    "        data_folder = os.path.join(\"../\", \"data\")\n",
    "        X_train_file_path = os.path.join(data_folder, \"Train/X_train.txt\")\n",
    "        y_train_file_path = os.path.join(data_folder, \"Train/y_train.txt\")\n",
    "        X_test_file_path = os.path.join(data_folder, \"Test/X_test.txt\")\n",
    "        y_test_file_path = os.path.join(data_folder, \"Test/y_test.txt\")\n",
    "        self.X_train = np.loadtxt(X_train_file_path, delimiter=' ')[0:train_rows, :]\n",
    "        self.y_train = np.loadtxt(y_train_file_path, delimiter=' ')[0:train_rows, ]\n",
    "        self.X_test = np.loadtxt(X_test_file_path, delimiter=' ')[0:test_rows, :]\n",
    "        self.y_test = np.loadtxt(y_test_file_path, delimiter=' ')[0:test_rows, ]\n",
    "        # self.y_train = np.loadtxt(y_test_file_path, delimiter=' ').reshape(-1, 1)\n",
    "        # self.y_test = np.loadtxt(y_test_file_path, delimiter=' ').reshape(-1, 1)\n",
    "        if scl:\n",
    "            StandardScaler().fit_transform(self.X_train)\n",
    "        if shfl:\n",
    "            self.X_train, self.y_train = shuffle(self.X_train, self.y_train)\n",
    "\n",
    "\n",
    "class Classifiers:\n",
    "    def __init__(self, data):\n",
    "        self.X_train = data.X_train\n",
    "        self.y_train = data.y_train\n",
    "        self.X_test = data.X_test\n",
    "        self.y_test = data.y_test\n",
    "        self.y_predict = {}  # {k - name_of_classifier, v - [predictions]}\n",
    "        self.cls = {}  # {k - name_of_classifier, v - sklearn_classifier_object}\n",
    "        self.scores = {}  # {k - name_of_classifier, { k - score_metric, v - score}}\n",
    "\n",
    "    def add_classifier(self, classifier_name, classifier):\n",
    "        self.cls[classifier_name] = classifier\n",
    "\n",
    "    def fit(self):\n",
    "        for classifier_name, classifier in self.cls.items():\n",
    "#             cross_val_score(classifier, self.X_train, self.y_train, cv=5)\n",
    "            classifier.fit(self.X_train, self.y_train)\n",
    "\n",
    "    def predict(self):\n",
    "        for classifier_name, classifier in self.cls.items():\n",
    "            self.y_predict[classifier_name] = classifier.predict(self.X_test)\n",
    "\n",
    "    def get_scores(self):\n",
    "        for classifier_name, classifier in self.cls.items():\n",
    "            self.__get_score(classifier_name, classifier)\n",
    "\n",
    "    def __get_score(self, classifier_name, classifier):\n",
    "        self.scores[classifier_name] = {\n",
    "            \"accuracy\": accuracy_score(self.y_test, self.y_predict[classifier_name]),\n",
    "            # \"confusion_matrix\": confusion_matrix(self.y_test, self.y_predict[classifier_name])\n",
    "        }\n",
    "\n",
    "    def predicted_scores(self):\n",
    "        return self.scores\n",
    "    \n",
    "    def print_scores(self):\n",
    "        pprint.pprint(self.scores)"
   ]
  },
  {
   "cell_type": "code",
   "execution_count": 55,
   "metadata": {
    "collapsed": false
   },
   "outputs": [
    {
     "data": {
      "text/plain": [
       "(7767, 561)"
      ]
     },
     "execution_count": 55,
     "metadata": {},
     "output_type": "execute_result"
    }
   ],
   "source": [
    "data.X_train.shape"
   ]
  },
  {
   "cell_type": "code",
   "execution_count": 60,
   "metadata": {
    "collapsed": false,
    "scrolled": true
   },
   "outputs": [
    {
     "name": "stdout",
     "output_type": "stream",
     "text": [
      "(7767, 561)\n"
     ]
    },
    {
     "name": "stderr",
     "output_type": "stream",
     "text": [
      "//anaconda/lib/python3.5/site-packages/sklearn/discriminant_analysis.py:387: UserWarning: Variables are collinear.\n",
      "  warnings.warn(\"Variables are collinear.\")\n",
      "//anaconda/lib/python3.5/site-packages/sklearn/discriminant_analysis.py:688: UserWarning: Variables are collinear\n",
      "  warnings.warn(\"Variables are collinear\")\n",
      "//anaconda/lib/python3.5/site-packages/sklearn/discriminant_analysis.py:387: UserWarning: Variables are collinear.\n",
      "  warnings.warn(\"Variables are collinear.\")\n",
      "//anaconda/lib/python3.5/site-packages/sklearn/discriminant_analysis.py:688: UserWarning: Variables are collinear\n",
      "  warnings.warn(\"Variables are collinear\")\n",
      "//anaconda/lib/python3.5/site-packages/sklearn/discriminant_analysis.py:387: UserWarning: Variables are collinear.\n",
      "  warnings.warn(\"Variables are collinear.\")\n",
      "//anaconda/lib/python3.5/site-packages/sklearn/discriminant_analysis.py:688: UserWarning: Variables are collinear\n",
      "  warnings.warn(\"Variables are collinear\")\n",
      "//anaconda/lib/python3.5/site-packages/sklearn/discriminant_analysis.py:387: UserWarning: Variables are collinear.\n",
      "  warnings.warn(\"Variables are collinear.\")\n",
      "//anaconda/lib/python3.5/site-packages/sklearn/discriminant_analysis.py:688: UserWarning: Variables are collinear\n",
      "  warnings.warn(\"Variables are collinear\")\n",
      "//anaconda/lib/python3.5/site-packages/sklearn/discriminant_analysis.py:387: UserWarning: Variables are collinear.\n",
      "  warnings.warn(\"Variables are collinear.\")\n",
      "//anaconda/lib/python3.5/site-packages/sklearn/discriminant_analysis.py:688: UserWarning: Variables are collinear\n",
      "  warnings.warn(\"Variables are collinear\")\n",
      "//anaconda/lib/python3.5/site-packages/sklearn/discriminant_analysis.py:387: UserWarning: Variables are collinear.\n",
      "  warnings.warn(\"Variables are collinear.\")\n",
      "//anaconda/lib/python3.5/site-packages/sklearn/discriminant_analysis.py:688: UserWarning: Variables are collinear\n",
      "  warnings.warn(\"Variables are collinear\")\n",
      "//anaconda/lib/python3.5/site-packages/sklearn/discriminant_analysis.py:387: UserWarning: Variables are collinear.\n",
      "  warnings.warn(\"Variables are collinear.\")\n",
      "//anaconda/lib/python3.5/site-packages/sklearn/discriminant_analysis.py:688: UserWarning: Variables are collinear\n",
      "  warnings.warn(\"Variables are collinear\")\n",
      "//anaconda/lib/python3.5/site-packages/sklearn/discriminant_analysis.py:387: UserWarning: Variables are collinear.\n",
      "  warnings.warn(\"Variables are collinear.\")\n",
      "//anaconda/lib/python3.5/site-packages/sklearn/discriminant_analysis.py:688: UserWarning: Variables are collinear\n",
      "  warnings.warn(\"Variables are collinear\")\n",
      "//anaconda/lib/python3.5/site-packages/sklearn/discriminant_analysis.py:387: UserWarning: Variables are collinear.\n",
      "  warnings.warn(\"Variables are collinear.\")\n",
      "//anaconda/lib/python3.5/site-packages/sklearn/discriminant_analysis.py:688: UserWarning: Variables are collinear\n",
      "  warnings.warn(\"Variables are collinear\")\n",
      "//anaconda/lib/python3.5/site-packages/sklearn/discriminant_analysis.py:387: UserWarning: Variables are collinear.\n",
      "  warnings.warn(\"Variables are collinear.\")\n",
      "//anaconda/lib/python3.5/site-packages/sklearn/discriminant_analysis.py:688: UserWarning: Variables are collinear\n",
      "  warnings.warn(\"Variables are collinear\")\n",
      "//anaconda/lib/python3.5/site-packages/sklearn/discriminant_analysis.py:387: UserWarning: Variables are collinear.\n",
      "  warnings.warn(\"Variables are collinear.\")\n",
      "//anaconda/lib/python3.5/site-packages/sklearn/discriminant_analysis.py:688: UserWarning: Variables are collinear\n",
      "  warnings.warn(\"Variables are collinear\")\n",
      "//anaconda/lib/python3.5/site-packages/sklearn/discriminant_analysis.py:387: UserWarning: Variables are collinear.\n",
      "  warnings.warn(\"Variables are collinear.\")\n",
      "//anaconda/lib/python3.5/site-packages/sklearn/discriminant_analysis.py:688: UserWarning: Variables are collinear\n",
      "  warnings.warn(\"Variables are collinear\")\n"
     ]
    }
   ],
   "source": [
    "from sklearn.decomposition import PCA\n",
    "pca_values = [5, 10, 25, 30, 40, 50, 100, 150, 200, 250, 300, 561]\n",
    "# pca_values = [30]\n",
    "data = Data()\n",
    "# data.load_data(3000)\n",
    "data.load_data(shfl=True)\n",
    "print (data.X_train.shape)\n",
    "\n",
    "scores = {}\n",
    "\n",
    "for v in pca_values:\n",
    "    pca = PCA(n_components=v)\n",
    "    pca.fit_transform(data.X_train)\n",
    "    pca.transform(data.X_test)\n",
    "    # print(pca.explained_variance_ratio_)\n",
    "\n",
    "\n",
    "    cls = Classifiers(data)\n",
    "    dtc = DecisionTreeClassifier(max_features=0.8)\n",
    "    gnb = GaussianNB()\n",
    "    lda = LinearDiscriminantAnalysis()\n",
    "    qda = QuadraticDiscriminantAnalysis()\n",
    "    svm = SVM.SVC(kernel=\"linear\")\n",
    "    rfc = RandomForestClassifier(n_estimators=10, max_features=0.8)\n",
    "    cls.add_classifier(\"decision-trees\", dtc)\n",
    "    cls.add_classifier(\"random-forest\", rfc)\n",
    "    cls.add_classifier(\"gaussian-naive-bayes\", gnb)\n",
    "    cls.add_classifier(\"linear-discriminant-analysis\", lda)\n",
    "    cls.add_classifier(\"quadratic-discriminant-analysis\", qda)\n",
    "    cls.add_classifier(\"support-vector-machine\", svm)\n",
    "    cls.fit()\n",
    "    cls.predict()\n",
    "    cls.get_scores()\n",
    "    for k, v in cls.predicted_scores().items():\n",
    "        try:\n",
    "            scores[k] += [v[\"accuracy\"]]\n",
    "        except KeyError:\n",
    "            scores[k] = [v[\"accuracy\"]]\n",
    "#     scores.append(raw_scores.values())\n",
    "#     cls.print_scores()\n",
    "\n",
    "    "
   ]
  },
  {
   "cell_type": "markdown",
   "metadata": {
    "collapsed": true
   },
   "source": [
    "30 PCA\n",
    "{'decision-trees': {'accuracy': 0.81372549019607843},\n",
    " 'gaussian-naive-bayes': {'accuracy': 0.74731182795698925},\n",
    " 'linear-discriminant-analysis': {'accuracy': 0.94876660341555974},\n",
    " 'quadratic-discriminant-analysis': {'accuracy': 0.84819734345351039},\n",
    " 'random-forest': {'accuracy': 0.88108791903858319},\n",
    " 'support-vector-machine': {'accuracy': 0.95192915876027828}}"
   ]
  },
  {
   "cell_type": "code",
   "execution_count": 61,
   "metadata": {
    "collapsed": false
   },
   "outputs": [
    {
     "name": "stdout",
     "output_type": "stream",
     "text": [
      "gaussian-naive-bayes [0.74731182795698925, 0.74731182795698925, 0.74731182795698925, 0.74731182795698925, 0.74731182795698925, 0.74731182795698925, 0.74731182795698925, 0.74731182795698925, 0.74731182795698925, 0.74731182795698925, 0.74731182795698925, 0.74731182795698925]\n",
      "random-forest [0.89089184060721061, 0.87950664136622392, 0.8855154965211891, 0.87887413029728023, 0.87919038583175202, 0.88425047438330173, 0.88456672991777352, 0.88393421884882983, 0.87160025300442756, 0.88298545224541425, 0.88709677419354838, 0.88393421884882983]\n",
      "support-vector-machine [0.95192915876027828, 0.95192915876027828, 0.95192915876027828, 0.95192915876027828, 0.95192915876027828, 0.95192915876027828, 0.95192915876027828, 0.95192915876027828, 0.95192915876027828, 0.95192915876027828, 0.95192915876027828, 0.95192915876027828]\n",
      "decision-trees [0.80107526881720426, 0.83364958886780516, 0.81056293485135988, 0.84408602150537637, 0.79949399114484498, 0.84914611005692597, 0.83238456672991779, 0.82479443390259333, 0.81973434535104361, 0.81277672359266284, 0.82890575585072734, 0.79664769133459834]\n",
      "linear-discriminant-analysis [0.94876660341555974, 0.94876660341555974, 0.94876660341555974, 0.94876660341555974, 0.94876660341555974, 0.94876660341555974, 0.94876660341555974, 0.94876660341555974, 0.94876660341555974, 0.94876660341555974, 0.94876660341555974, 0.94876660341555974]\n",
      "quadratic-discriminant-analysis [0.85452245414294747, 0.85452245414294747, 0.85452245414294747, 0.85452245414294747, 0.85452245414294747, 0.85452245414294747, 0.85452245414294747, 0.85452245414294747, 0.85452245414294747, 0.85452245414294747, 0.85452245414294747, 0.85452245414294747]\n"
     ]
    },
    {
     "data": {
      "image/png": "[encoded data removed]",
      "text/plain": [
       "<matplotlib.figure.Figure at 0x1225a35f8>"
      ]
     },
     "metadata": {},
     "output_type": "display_data"
    }
   ],
   "source": [
    "colors = {}\n",
    "for k, v in scores.items():\n",
    "    print(k, v)\n",
    "    plt.plot(pca_values, v, 'bo')\n",
    "plt.show()"
   ]
  },
  {
   "cell_type": "code",
   "execution_count": null,
   "metadata": {
    "collapsed": true
   },
   "outputs": [],
   "source": []
  }
 ],
 "metadata": {
  "anaconda-cloud": {},
  "kernelspec": {
   "display_name": "Python [conda root]",
   "language": "python",
   "name": "conda-root-py"
  },
  "language_info": {
   "codemirror_mode": {
    "name": "ipython",
    "version": 3
   },
   "file_extension": ".py",
   "mimetype": "text/x-python",
   "name": "python",
   "nbconvert_exporter": "python",
   "pygments_lexer": "ipython3",
   "version": "3.5.2"
  }
 },
 "nbformat": 4,
 "nbformat_minor": 1
}
